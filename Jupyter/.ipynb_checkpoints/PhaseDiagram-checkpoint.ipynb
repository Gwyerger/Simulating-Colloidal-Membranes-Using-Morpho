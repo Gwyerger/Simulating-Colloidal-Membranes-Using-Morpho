{
 "cells": [
  {
   "cell_type": "code",
   "execution_count": 1,
   "id": "75ddfdf7",
   "metadata": {},
   "outputs": [],
   "source": [
    "import numpy as np\n",
    "import matplotlib.pyplot as plt"
   ]
  },
  {
   "cell_type": "markdown",
   "id": "47ade662",
   "metadata": {},
   "source": [
    "# Plotting a Phase Diagram"
   ]
  },
  {
   "cell_type": "code",
   "execution_count": 2,
   "id": "281565a5",
   "metadata": {},
   "outputs": [],
   "source": [
    "# We devise a PVPython script that tells us the existance of a pore.\n",
    "# The data we receive is in a text document of the form bool.\n",
    "\n",
    "path = \"C:\\\\Users\\\\gabey\\\\OneDrive\\\\Desktop\\\\Fall 2023\\\\SM Research\\\\Phase Diagram VTK Exports and PP\\\\Single Pore\\\\\"\n",
    "name1 = \"IsPoreData.txt\"\n",
    "delimiter = \",\"\n",
    "pop = \"\\n\"\n",
    "file = open(path+name1, \"r\")\n",
    "strdata = file.readlines()\n",
    "PoreTrue = []\n",
    "PoreFalse = []\n",
    "PoreMaybe = []\n",
    "for i in range(1, len(strdata)):\n",
    "    strdata[i] = strdata[i].replace(pop, \"\")\n",
    "    strdata[i] = strdata[i].split(delimiter)\n",
    "    strdata[i][0] = float(strdata[i][0])\n",
    "    strdata[i][1] = float(strdata[i][1])\n",
    "    if (\"None\" in strdata[i][2]):\n",
    "        PoreMaybe.append([strdata[i][0], strdata[i][1]])\n",
    "    else:\n",
    "        if (\"True\" in strdata[i][2]):\n",
    "            PoreTrue.append([strdata[i][0], strdata[i][1]])\n",
    "        elif (\"False\" in strdata[i][2]):\n",
    "            PoreFalse.append([strdata[i][0], strdata[i][1]])"
   ]
  },
  {
   "cell_type": "code",
   "execution_count": 3,
   "id": "9719c9eb",
   "metadata": {},
   "outputs": [],
   "source": [
    "PoreTrue = np.array(PoreTrue)\n",
    "\n",
    "PoreMaybe = np.array(PoreMaybe)\n",
    "\n",
    "PoreFalse = np.array(PoreFalse)"
   ]
  },
  {
   "cell_type": "code",
   "execution_count": 6,
   "id": "0c951a0d",
   "metadata": {},
   "outputs": [
    {
     "data": {
      "image/png": "[encoded data removed]",
      "text/plain": [
       "<Figure size 432x288 with 1 Axes>"
      ]
     },
     "metadata": {
      "needs_background": "light"
     },
     "output_type": "display_data"
    }
   ],
   "source": [
    "# Now we create a phase diagram on a figure with MPL and save it\n",
    "\n",
    "fig,ax = plt.subplots()\n",
    "\n",
    "ax.scatter(PoreTrue[:,1]/10, PoreTrue[:,0]/10, label = \"Pore Exists\")\n",
    "ax.scatter(PoreMaybe[:,1]/10, PoreMaybe[:,0]/10, label = \"Not Conclusive\")\n",
    "ax.scatter(PoreFalse[:,1]/10, PoreFalse[:,0]/10, label = \"Pore Closes\")\n",
    "\n",
    "ax.set_title(\"Pore Stability-Phase Diagram\")\n",
    "ax.set_ylabel(\"$\\gamma\\lambda_t/K$\")\n",
    "ax.set_xlabel(\"$q\\lambda_t$\")\n",
    "ax.grid(visible=False)\n",
    "ax.legend(bbox_to_anchor =(1, -0.2), ncol = 3) \n",
    "plt.show()"
   ]
  },
  {
   "cell_type": "code",
   "execution_count": null,
   "id": "fbd8811b",
   "metadata": {},
   "outputs": [],
   "source": []
  }
 ],
 "metadata": {
  "kernelspec": {
   "display_name": "Python 3 (ipykernel)",
   "language": "python",
   "name": "python3"
  },
  "language_info": {
   "codemirror_mode": {
    "name": "ipython",
    "version": 3
   },
   "file_extension": ".py",
   "mimetype": "text/x-python",
   "name": "python",
   "nbconvert_exporter": "python",
   "pygments_lexer": "ipython3",
   "version": "3.10.4"
  }
 },
 "nbformat": 4,
 "nbformat_minor": 5
}
